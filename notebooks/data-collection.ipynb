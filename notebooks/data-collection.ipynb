{
 "cells": [
  {
   "cell_type": "markdown",
   "id": "ae43a6a5",
   "metadata": {},
   "source": [
    "# Overview"
   ]
  },
  {
   "cell_type": "markdown",
   "id": "19f81c1b",
   "metadata": {},
   "source": [
    "As a data scientist, working on the project HTM-application, we would like to detect anomalies for cpu usage data from smaug cluster. \n",
    "The following notebook is used to fetch the info about `openshift:cpu_usage_cores:sum` for smaug cluster. "
   ]
  },
  {
   "cell_type": "code",
   "execution_count": 9,
   "id": "109d661f",
   "metadata": {
    "ExecuteTime": {
     "end_time": "2021-12-14T16:43:35.079926Z",
     "start_time": "2021-12-14T16:43:34.867060Z"
    }
   },
   "outputs": [],
   "source": [
    "import os\n",
    "import datetime as dt\n",
    "from tqdm import tqdm\n",
    "import pandas as pd\n",
    "import warnings\n",
    "import urllib3\n",
    "from dotenv import load_dotenv, find_dotenv\n",
    "\n",
    "from prometheus_api_client import PrometheusConnect, MetricSnapshotDataFrame"
   ]
  },
  {
   "cell_type": "code",
   "execution_count": 2,
   "id": "76dab276",
   "metadata": {
    "ExecuteTime": {
     "end_time": "2021-12-14T16:35:09.625581Z",
     "start_time": "2021-12-14T16:35:09.623652Z"
    }
   },
   "outputs": [],
   "source": [
    "urllib3.disable_warnings()\n",
    "pd.set_option(\"display.max_columns\", None)"
   ]
  },
  {
   "cell_type": "code",
   "execution_count": 3,
   "id": "765c8344",
   "metadata": {
    "ExecuteTime": {
     "end_time": "2021-12-14T16:35:09.649786Z",
     "start_time": "2021-12-14T16:35:09.626751Z"
    }
   },
   "outputs": [],
   "source": [
    "%matplotlib inline\n",
    "load_dotenv(find_dotenv())\n",
    "warnings.filterwarnings(\"ignore\")"
   ]
  },
  {
   "cell_type": "markdown",
   "id": "2624d260",
   "metadata": {},
   "source": [
    "# Connect to Prometheus"
   ]
  },
  {
   "cell_type": "markdown",
   "id": "155dd56d",
   "metadata": {},
   "source": [
    "We refer to the [docs](https://github.com/operate-first/apps/tree/master/docs/content/observatorium/thanos) for accesing the [Thanos](https://thanos-query-frontend-opf-observatorium.apps.smaug.na.operate-first.cloud/graph?g0.expr=&g0.tab=1&g0.stacked=0&g0.range_input=1h&g0.max_source_resolution=0s&g0.deduplicate=1&g0.partial_response=0&g0.store_matches=%5B%5D) metrics using the Prometheus Api client."
   ]
  },
  {
   "cell_type": "code",
   "execution_count": 4,
   "id": "4e6805d1",
   "metadata": {
    "ExecuteTime": {
     "end_time": "2021-12-14T16:35:09.652766Z",
     "start_time": "2021-12-14T16:35:09.650952Z"
    }
   },
   "outputs": [],
   "source": [
    "prom_url = os.getenv(\"PROM_URL\")\n",
    "prom_access_token = os.getenv(\"PROM_ACCESS_TOKEN\")\n",
    "\n",
    "PROM_URL = prom_url\n",
    "PROM_ACCESS_TOKEN = prom_access_token"
   ]
  },
  {
   "cell_type": "code",
   "execution_count": 5,
   "id": "40d7f7cc",
   "metadata": {
    "ExecuteTime": {
     "end_time": "2021-12-14T16:35:09.665007Z",
     "start_time": "2021-12-14T16:35:09.653630Z"
    }
   },
   "outputs": [],
   "source": [
    "# instantiate prometheus connector\n",
    "pc = PrometheusConnect(\n",
    "    url=PROM_URL,\n",
    "    headers={\"Authorization\": f\"bearer {PROM_ACCESS_TOKEN}\"},\n",
    "    disable_ssl=True,\n",
    ")"
   ]
  },
  {
   "cell_type": "markdown",
   "id": "803a0622",
   "metadata": {},
   "source": [
    "## Setting up the date"
   ]
  },
  {
   "cell_type": "markdown",
   "id": "998cc456",
   "metadata": {
    "ExecuteTime": {
     "end_time": "2021-12-14T14:46:58.489747Z",
     "start_time": "2021-12-14T14:46:58.487012Z"
    }
   },
   "source": [
    "Here we set-up the date for accessing the metrics. "
   ]
  },
  {
   "cell_type": "code",
   "execution_count": 6,
   "id": "7ef7990b",
   "metadata": {
    "ExecuteTime": {
     "end_time": "2021-12-14T16:35:09.670995Z",
     "start_time": "2021-12-14T16:35:09.665982Z"
    }
   },
   "outputs": [],
   "source": [
    "start_time = dt.datetime(year=2021, month=10, day=1)\n",
    "end_time = dt.datetime(year=2021, month=11, day=30)\n",
    "step = dt.timedelta(minutes=5, seconds=0)"
   ]
  },
  {
   "cell_type": "code",
   "execution_count": 7,
   "id": "2400eaca",
   "metadata": {
    "ExecuteTime": {
     "end_time": "2021-12-14T16:43:34.106307Z",
     "start_time": "2021-12-14T16:35:09.671882Z"
    }
   },
   "outputs": [
    {
     "name": "stdout",
     "output_type": "stream",
     "text": [
      "17280.0\n"
     ]
    },
    {
     "name": "stderr",
     "output_type": "stream",
     "text": [
      "100%|██████████| 17280/17280 [08:24<00:00, 34.26it/s]\n"
     ]
    },
    {
     "data": {
      "text/html": [
       "<div>\n",
       "<style scoped>\n",
       "    .dataframe tbody tr th:only-of-type {\n",
       "        vertical-align: middle;\n",
       "    }\n",
       "\n",
       "    .dataframe tbody tr th {\n",
       "        vertical-align: top;\n",
       "    }\n",
       "\n",
       "    .dataframe thead th {\n",
       "        text-align: right;\n",
       "    }\n",
       "</style>\n",
       "<table border=\"1\" class=\"dataframe\">\n",
       "  <thead>\n",
       "    <tr style=\"text-align: right;\">\n",
       "      <th></th>\n",
       "      <th>__name__</th>\n",
       "      <th>cluster</th>\n",
       "      <th>prometheus</th>\n",
       "      <th>receive</th>\n",
       "      <th>tenant_id</th>\n",
       "      <th>timestamp</th>\n",
       "      <th>value</th>\n",
       "    </tr>\n",
       "  </thead>\n",
       "  <tbody>\n",
       "    <tr>\n",
       "      <th>0</th>\n",
       "      <td>openshift:cpu_usage_cores:sum</td>\n",
       "      <td>moc/smaug</td>\n",
       "      <td>openshift-monitoring/k8s</td>\n",
       "      <td>true</td>\n",
       "      <td>moc.smaug</td>\n",
       "      <td>1637256300</td>\n",
       "      <td>173.19871643299905</td>\n",
       "    </tr>\n",
       "    <tr>\n",
       "      <th>0</th>\n",
       "      <td>openshift:cpu_usage_cores:sum</td>\n",
       "      <td>moc/smaug</td>\n",
       "      <td>openshift-monitoring/k8s</td>\n",
       "      <td>true</td>\n",
       "      <td>moc.smaug</td>\n",
       "      <td>1637256600</td>\n",
       "      <td>157.4071101149342</td>\n",
       "    </tr>\n",
       "    <tr>\n",
       "      <th>0</th>\n",
       "      <td>openshift:cpu_usage_cores:sum</td>\n",
       "      <td>moc/smaug</td>\n",
       "      <td>openshift-monitoring/k8s</td>\n",
       "      <td>true</td>\n",
       "      <td>moc.smaug</td>\n",
       "      <td>1637256900</td>\n",
       "      <td>154.68969539644834</td>\n",
       "    </tr>\n",
       "    <tr>\n",
       "      <th>0</th>\n",
       "      <td>openshift:cpu_usage_cores:sum</td>\n",
       "      <td>moc/smaug</td>\n",
       "      <td>openshift-monitoring/k8s</td>\n",
       "      <td>true</td>\n",
       "      <td>moc.smaug</td>\n",
       "      <td>1637257200</td>\n",
       "      <td>155.95856012168218</td>\n",
       "    </tr>\n",
       "    <tr>\n",
       "      <th>0</th>\n",
       "      <td>openshift:cpu_usage_cores:sum</td>\n",
       "      <td>moc/smaug</td>\n",
       "      <td>openshift-monitoring/k8s</td>\n",
       "      <td>true</td>\n",
       "      <td>moc.smaug</td>\n",
       "      <td>1637257500</td>\n",
       "      <td>152.46881932675063</td>\n",
       "    </tr>\n",
       "  </tbody>\n",
       "</table>\n",
       "</div>"
      ],
      "text/plain": [
       "                        __name__    cluster                prometheus receive  \\\n",
       "0  openshift:cpu_usage_cores:sum  moc/smaug  openshift-monitoring/k8s    true   \n",
       "0  openshift:cpu_usage_cores:sum  moc/smaug  openshift-monitoring/k8s    true   \n",
       "0  openshift:cpu_usage_cores:sum  moc/smaug  openshift-monitoring/k8s    true   \n",
       "0  openshift:cpu_usage_cores:sum  moc/smaug  openshift-monitoring/k8s    true   \n",
       "0  openshift:cpu_usage_cores:sum  moc/smaug  openshift-monitoring/k8s    true   \n",
       "\n",
       "   tenant_id   timestamp               value  \n",
       "0  moc.smaug  1637256300  173.19871643299905  \n",
       "0  moc.smaug  1637256600   157.4071101149342  \n",
       "0  moc.smaug  1637256900  154.68969539644834  \n",
       "0  moc.smaug  1637257200  155.95856012168218  \n",
       "0  moc.smaug  1637257500  152.46881932675063  "
      ]
     },
     "execution_count": 7,
     "metadata": {},
     "output_type": "execute_result"
    }
   ],
   "source": [
    "num_steps = (end_time - start_time).total_seconds() / step.total_seconds()\n",
    "print(num_steps)\n",
    "\n",
    "df_cpu = pd.DataFrame()\n",
    "\n",
    "for i in tqdm(range(int(num_steps))):\n",
    "    # get data from current time step\n",
    "    ts = (start_time + i * step).timestamp()\n",
    "    df = MetricSnapshotDataFrame(\n",
    "        pc.custom_query(\n",
    "            \"openshift:cpu_usage_cores:sum{}\",\n",
    "            params={\"time\": ts},\n",
    "        )\n",
    "    )\n",
    "    # save it\n",
    "    df_cpu = df_cpu.append(df)\n",
    "\n",
    "df_cpu.head()"
   ]
  },
  {
   "cell_type": "markdown",
   "id": "104447fd",
   "metadata": {},
   "source": [
    "# Saving the accessed dataset"
   ]
  },
  {
   "cell_type": "code",
   "execution_count": 8,
   "id": "4dd06a39",
   "metadata": {
    "ExecuteTime": {
     "end_time": "2021-12-14T16:43:34.214806Z",
     "start_time": "2021-12-14T16:43:34.109176Z"
    }
   },
   "outputs": [],
   "source": [
    "df_cpu.to_parquet(\"../../data_cpu/df_cpu.parquet\")"
   ]
  },
  {
   "cell_type": "markdown",
   "id": "623da862",
   "metadata": {},
   "source": [
    "# Conclusion"
   ]
  },
  {
   "cell_type": "markdown",
   "id": "82abfe93",
   "metadata": {},
   "source": [
    "We have now fetched the given metrics from the Thanos and using Prometheus API client. In the next step, we will be using the data to detect anomalies using HTM algorithm. "
   ]
  }
 ],
 "metadata": {
  "kernelspec": {
   "display_name": "Python 3",
   "language": "python",
   "name": "python3"
  },
  "language_info": {
   "codemirror_mode": {
    "name": "ipython",
    "version": 3
   },
   "file_extension": ".py",
   "mimetype": "text/x-python",
   "name": "python",
   "nbconvert_exporter": "python",
   "pygments_lexer": "ipython3",
   "version": "3.8.3"
  },
  "toc": {
   "base_numbering": 1,
   "nav_menu": {},
   "number_sections": true,
   "sideBar": true,
   "skip_h1_title": false,
   "title_cell": "Table of Contents",
   "title_sidebar": "Contents",
   "toc_cell": false,
   "toc_position": {},
   "toc_section_display": true,
   "toc_window_display": false
  }
 },
 "nbformat": 4,
 "nbformat_minor": 5
}
